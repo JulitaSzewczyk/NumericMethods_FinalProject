{
 "cells": [
  {
   "cell_type": "markdown",
   "metadata": {},
   "source": [
    "# Projekt końcowy z Metod Numerycznych 2023/2024"
   ]
  },
  {
   "cell_type": "markdown",
   "metadata": {},
   "source": [
    "Użyto danych z biblioteki meteostat. Wybrano 5 lokalizacji:\n",
    "- Kraków\n",
    "- Warszawa\n",
    "- Wrocław\n",
    "- Szczecin\n",
    "- Gdańsk"
   ]
  },
  {
   "cell_type": "code",
   "execution_count": 4,
   "metadata": {},
   "outputs": [],
   "source": [
    "import pandas as pd\n",
    "import numpy as np\n",
    "import matplotlib as mp\n",
    "from meteostat import Point, Daily, units\n",
    "from datetime import datetime"
   ]
  },
  {
   "cell_type": "code",
   "execution_count": null,
   "metadata": {},
   "outputs": [],
   "source": [
    "locations = {\n",
    "    'Kraków': Point(50.0647, 19.9450),\n",
    "    'Warszawa': Point(52.2297, 21.0122),\n",
    "    'Wrocław': Point(51.1079, 17.0385),\n",
    "    'Szczecin': Point(53.4285, 14.5528),\n",
    "    'Gdańsk': Point(54.3520, 18.6466)\n",
    "}"
   ]
  },
  {
   "cell_type": "code",
   "execution_count": null,
   "metadata": {},
   "outputs": [],
   "source": [
    "start = datetime(2024, 5, 5)\n",
    "end = datetime(2024, 5, 12)"
   ]
  },
  {
   "cell_type": "code",
   "execution_count": null,
   "metadata": {},
   "outputs": [],
   "source": []
  }
 ],
 "metadata": {
  "kernelspec": {
   "display_name": "Python 3",
   "language": "python",
   "name": "python3"
  },
  "language_info": {
   "codemirror_mode": {
    "name": "ipython",
    "version": 3
   },
   "file_extension": ".py",
   "mimetype": "text/x-python",
   "name": "python",
   "nbconvert_exporter": "python",
   "pygments_lexer": "ipython3",
   "version": "3.11.8"
  }
 },
 "nbformat": 4,
 "nbformat_minor": 2
}
