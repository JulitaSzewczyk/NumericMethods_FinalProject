{
 "cells": [
  {
   "cell_type": "markdown",
   "metadata": {},
   "source": [
    "# Projekt końcowy z Metod Numerycznych 2023/2024"
   ]
  },
  {
   "cell_type": "markdown",
   "metadata": {},
   "source": [
    "Pytania:\n",
    "- Czy można do raportu użyć markdowna? Można\n",
    "- O co chodzi z upewnieniem się czy wszystkie dane są w tym samym formacie i jednostkach? \n",
    "Napisać, że z danej strony wartości są w tych jednostkach i w tych jednostkach. Nie trzeba w żaden sposób sprawdzać\n",
    "- Analiza wyników???\n",
    "- Analizować z całego dnia dane\n",
    "- Można uśrednić z tygodnia, zrobić kwartał\n",
    "- Jesli kilkuletnie to z miesiąca\n",
    "- On wsm poleca kwartał\n",
    "- Można z suwakiem mapkę\n",
    "- Temperatura i jakies 3 inne, sumarycznie 4 wartości\n",
    "- Prezentacja na 10 minut (muszą być slajdy, nie program,mapki, wykresy, podsumowania, tabele)\n",
    "- Dane uzupełnić, jak coś to samemu sobie usunąć pomiary, wtedy będą rozwiązania dokładne\n",
    "- mówi o aproksymacji\n",
    "- wymagane są 4 stacje, powinno być z conajmniej kwartału"
   ]
  },
  {
   "cell_type": "markdown",
   "metadata": {},
   "source": [
    "## Zebranie danych"
   ]
  },
  {
   "cell_type": "markdown",
   "metadata": {},
   "source": [
    "Użyto danych z biblioteki meteostat. Wybrano 5 lokalizacji: \n",
    "- Kraków\n",
    "- Warszawa\n",
    "- Wrocław\n",
    "- Szczecin\n",
    "- Gdańsk"
   ]
  },
  {
   "cell_type": "code",
   "execution_count": 1,
   "metadata": {},
   "outputs": [],
   "source": [
    "import pandas as pd\n",
    "import numpy as np\n",
    "import matplotlib as mp\n",
    "from meteostat import Point, Daily, units\n",
    "from datetime import datetime"
   ]
  },
  {
   "cell_type": "code",
   "execution_count": 2,
   "metadata": {},
   "outputs": [],
   "source": [
    "cities = {\n",
    "    'Kraków': Point(50.0647, 19.9450),\n",
    "    'Warszawa': Point(52.2297, 21.0122),\n",
    "    'Wrocław': Point(51.1079, 17.0385),\n",
    "    'Szczecin': Point(53.4285, 14.5528),\n",
    "    'Gdańsk': Point(54.3520, 18.6466)\n",
    "}"
   ]
  },
  {
   "cell_type": "markdown",
   "metadata": {},
   "source": [
    "Dane pobrano z pierwszego kwartału 2024 roku"
   ]
  },
  {
   "cell_type": "code",
   "execution_count": 3,
   "metadata": {},
   "outputs": [],
   "source": [
    "start = datetime(2024, 1, 1)\n",
    "end = datetime(2024, 3, 31)"
   ]
  },
  {
   "cell_type": "code",
   "execution_count": 29,
   "metadata": {},
   "outputs": [
    {
     "name": "stdout",
     "output_type": "stream",
     "text": [
      "Plik CSV dla Kraków został pomyślnie wygenerowany jako kraków_weather_data.csv.\n",
      "Plik CSV dla Warszawa został pomyślnie wygenerowany jako warszawa_weather_data.csv.\n",
      "Plik CSV dla Wrocław został pomyślnie wygenerowany jako wrocław_weather_data.csv.\n",
      "Plik CSV dla Szczecin został pomyślnie wygenerowany jako szczecin_weather_data.csv.\n",
      "Plik CSV dla Gdańsk został pomyślnie wygenerowany jako gdańsk_weather_data.csv.\n"
     ]
    }
   ],
   "source": [
    "dataframes = []\n",
    "for city, point in cities.items():\n",
    "    data = Daily(point, start, end)\n",
    "    data = data.fetch()\n",
    "    data['City'] = city\n",
    "    filename = f'{city.lower()}_weather_data.csv'\n",
    "    data.to_csv(filename, index=True)\n",
    "    print(f\"Plik CSV dla {city} został pomyślnie wygenerowany jako {filename}.\")"
   ]
  },
  {
   "cell_type": "markdown",
   "metadata": {},
   "source": [
    "Dane zostały wygenerowane, zatem można przystąpić do obróbki danych"
   ]
  },
  {
   "cell_type": "markdown",
   "metadata": {},
   "source": [
    "## Przygotowanie danych"
   ]
  },
  {
   "cell_type": "code",
   "execution_count": 30,
   "metadata": {},
   "outputs": [
    {
     "data": {
      "text/html": [
       "<div>\n",
       "<style scoped>\n",
       "    .dataframe tbody tr th:only-of-type {\n",
       "        vertical-align: middle;\n",
       "    }\n",
       "\n",
       "    .dataframe tbody tr th {\n",
       "        vertical-align: top;\n",
       "    }\n",
       "\n",
       "    .dataframe thead th {\n",
       "        text-align: right;\n",
       "    }\n",
       "</style>\n",
       "<table border=\"1\" class=\"dataframe\">\n",
       "  <thead>\n",
       "    <tr style=\"text-align: right;\">\n",
       "      <th></th>\n",
       "      <th>time</th>\n",
       "      <th>tavg</th>\n",
       "      <th>tmin</th>\n",
       "      <th>tmax</th>\n",
       "      <th>prcp</th>\n",
       "      <th>snow</th>\n",
       "      <th>wdir</th>\n",
       "      <th>wspd</th>\n",
       "      <th>wpgt</th>\n",
       "      <th>pres</th>\n",
       "      <th>tsun</th>\n",
       "      <th>City</th>\n",
       "    </tr>\n",
       "  </thead>\n",
       "  <tbody>\n",
       "    <tr>\n",
       "      <th>0</th>\n",
       "      <td>2024-01-01</td>\n",
       "      <td>2.7</td>\n",
       "      <td>0.5</td>\n",
       "      <td>4.7</td>\n",
       "      <td>8.9</td>\n",
       "      <td>NaN</td>\n",
       "      <td>260.0</td>\n",
       "      <td>12.8</td>\n",
       "      <td>35.2</td>\n",
       "      <td>1009.2</td>\n",
       "      <td>NaN</td>\n",
       "      <td>Kraków</td>\n",
       "    </tr>\n",
       "    <tr>\n",
       "      <th>1</th>\n",
       "      <td>2024-01-02</td>\n",
       "      <td>4.9</td>\n",
       "      <td>2.9</td>\n",
       "      <td>7.0</td>\n",
       "      <td>9.9</td>\n",
       "      <td>NaN</td>\n",
       "      <td>193.0</td>\n",
       "      <td>9.7</td>\n",
       "      <td>29.6</td>\n",
       "      <td>1008.0</td>\n",
       "      <td>NaN</td>\n",
       "      <td>Kraków</td>\n",
       "    </tr>\n",
       "    <tr>\n",
       "      <th>2</th>\n",
       "      <td>2024-01-03</td>\n",
       "      <td>7.4</td>\n",
       "      <td>4.1</td>\n",
       "      <td>10.2</td>\n",
       "      <td>5.5</td>\n",
       "      <td>NaN</td>\n",
       "      <td>223.0</td>\n",
       "      <td>19.2</td>\n",
       "      <td>44.5</td>\n",
       "      <td>997.5</td>\n",
       "      <td>NaN</td>\n",
       "      <td>Kraków</td>\n",
       "    </tr>\n",
       "    <tr>\n",
       "      <th>3</th>\n",
       "      <td>2024-01-04</td>\n",
       "      <td>6.6</td>\n",
       "      <td>3.1</td>\n",
       "      <td>9.2</td>\n",
       "      <td>7.1</td>\n",
       "      <td>NaN</td>\n",
       "      <td>235.0</td>\n",
       "      <td>25.5</td>\n",
       "      <td>53.7</td>\n",
       "      <td>998.6</td>\n",
       "      <td>NaN</td>\n",
       "      <td>Kraków</td>\n",
       "    </tr>\n",
       "    <tr>\n",
       "      <th>4</th>\n",
       "      <td>2024-01-05</td>\n",
       "      <td>1.3</td>\n",
       "      <td>0.0</td>\n",
       "      <td>6.5</td>\n",
       "      <td>5.8</td>\n",
       "      <td>NaN</td>\n",
       "      <td>25.0</td>\n",
       "      <td>14.4</td>\n",
       "      <td>46.3</td>\n",
       "      <td>1009.8</td>\n",
       "      <td>NaN</td>\n",
       "      <td>Kraków</td>\n",
       "    </tr>\n",
       "  </tbody>\n",
       "</table>\n",
       "</div>"
      ],
      "text/plain": [
       "         time  tavg  tmin  tmax  prcp  snow   wdir  wspd  wpgt    pres  tsun  \\\n",
       "0  2024-01-01   2.7   0.5   4.7   8.9   NaN  260.0  12.8  35.2  1009.2   NaN   \n",
       "1  2024-01-02   4.9   2.9   7.0   9.9   NaN  193.0   9.7  29.6  1008.0   NaN   \n",
       "2  2024-01-03   7.4   4.1  10.2   5.5   NaN  223.0  19.2  44.5   997.5   NaN   \n",
       "3  2024-01-04   6.6   3.1   9.2   7.1   NaN  235.0  25.5  53.7   998.6   NaN   \n",
       "4  2024-01-05   1.3   0.0   6.5   5.8   NaN   25.0  14.4  46.3  1009.8   NaN   \n",
       "\n",
       "     City  \n",
       "0  Kraków  \n",
       "1  Kraków  \n",
       "2  Kraków  \n",
       "3  Kraków  \n",
       "4  Kraków  "
      ]
     },
     "execution_count": 30,
     "metadata": {},
     "output_type": "execute_result"
    }
   ],
   "source": [
    "df = pd.read_csv('kraków_weather_data.csv')\n",
    "df.head(5)"
   ]
  },
  {
   "cell_type": "markdown",
   "metadata": {},
   "source": [
    "W tym datasecie występuje 10 zmiennych dotyczących pogody. Ograniczmy go do 4: temperatury, ciśnienia atmosferycznego, sumy opadów i prędkości wiatru"
   ]
  },
  {
   "cell_type": "markdown",
   "metadata": {},
   "source": [
    "Należy usunąć pozostałe kolumny"
   ]
  },
  {
   "cell_type": "code",
   "execution_count": 31,
   "metadata": {},
   "outputs": [
    {
     "data": {
      "text/html": [
       "<div>\n",
       "<style scoped>\n",
       "    .dataframe tbody tr th:only-of-type {\n",
       "        vertical-align: middle;\n",
       "    }\n",
       "\n",
       "    .dataframe tbody tr th {\n",
       "        vertical-align: top;\n",
       "    }\n",
       "\n",
       "    .dataframe thead th {\n",
       "        text-align: right;\n",
       "    }\n",
       "</style>\n",
       "<table border=\"1\" class=\"dataframe\">\n",
       "  <thead>\n",
       "    <tr style=\"text-align: right;\">\n",
       "      <th></th>\n",
       "      <th>time</th>\n",
       "      <th>tavg</th>\n",
       "      <th>prcp</th>\n",
       "      <th>wspd</th>\n",
       "      <th>pres</th>\n",
       "      <th>City</th>\n",
       "    </tr>\n",
       "  </thead>\n",
       "  <tbody>\n",
       "    <tr>\n",
       "      <th>0</th>\n",
       "      <td>2024-01-01</td>\n",
       "      <td>2.7</td>\n",
       "      <td>8.9</td>\n",
       "      <td>12.8</td>\n",
       "      <td>1009.2</td>\n",
       "      <td>Kraków</td>\n",
       "    </tr>\n",
       "    <tr>\n",
       "      <th>1</th>\n",
       "      <td>2024-01-02</td>\n",
       "      <td>4.9</td>\n",
       "      <td>9.9</td>\n",
       "      <td>9.7</td>\n",
       "      <td>1008.0</td>\n",
       "      <td>Kraków</td>\n",
       "    </tr>\n",
       "    <tr>\n",
       "      <th>2</th>\n",
       "      <td>2024-01-03</td>\n",
       "      <td>7.4</td>\n",
       "      <td>5.5</td>\n",
       "      <td>19.2</td>\n",
       "      <td>997.5</td>\n",
       "      <td>Kraków</td>\n",
       "    </tr>\n",
       "    <tr>\n",
       "      <th>3</th>\n",
       "      <td>2024-01-04</td>\n",
       "      <td>6.6</td>\n",
       "      <td>7.1</td>\n",
       "      <td>25.5</td>\n",
       "      <td>998.6</td>\n",
       "      <td>Kraków</td>\n",
       "    </tr>\n",
       "    <tr>\n",
       "      <th>4</th>\n",
       "      <td>2024-01-05</td>\n",
       "      <td>1.3</td>\n",
       "      <td>5.8</td>\n",
       "      <td>14.4</td>\n",
       "      <td>1009.8</td>\n",
       "      <td>Kraków</td>\n",
       "    </tr>\n",
       "  </tbody>\n",
       "</table>\n",
       "</div>"
      ],
      "text/plain": [
       "         time  tavg  prcp  wspd    pres    City\n",
       "0  2024-01-01   2.7   8.9  12.8  1009.2  Kraków\n",
       "1  2024-01-02   4.9   9.9   9.7  1008.0  Kraków\n",
       "2  2024-01-03   7.4   5.5  19.2   997.5  Kraków\n",
       "3  2024-01-04   6.6   7.1  25.5   998.6  Kraków\n",
       "4  2024-01-05   1.3   5.8  14.4  1009.8  Kraków"
      ]
     },
     "execution_count": 31,
     "metadata": {},
     "output_type": "execute_result"
    }
   ],
   "source": [
    "df = df.drop(['tmin', 'tmax', 'snow', 'wdir', 'wpgt', 'tsun'], axis = 1)\n",
    "df.head(5)"
   ]
  },
  {
   "cell_type": "markdown",
   "metadata": {},
   "source": [
    "- tavg - średnia temperatura powietrza [°C]\n",
    "- wspd - średnia prędkość wiatru [km/h]\n",
    "- pres - średnie ciśnienie atmosferyczne [hPa]\n",
    "- prcp - średnia suma opadów [mm]"
   ]
  },
  {
   "cell_type": "code",
   "execution_count": 12,
   "metadata": {},
   "outputs": [
    {
     "name": "stdout",
     "output_type": "stream",
     "text": [
      "<class 'pandas.core.frame.DataFrame'>\n",
      "RangeIndex: 91 entries, 0 to 90\n",
      "Data columns (total 6 columns):\n",
      " #   Column  Non-Null Count  Dtype  \n",
      "---  ------  --------------  -----  \n",
      " 0   time    91 non-null     object \n",
      " 1   tavg    91 non-null     float64\n",
      " 2   prcp    91 non-null     float64\n",
      " 3   wspd    91 non-null     float64\n",
      " 4   pres    91 non-null     float64\n",
      " 5   City    91 non-null     object \n",
      "dtypes: float64(4), object(2)\n",
      "memory usage: 4.4+ KB\n"
     ]
    }
   ],
   "source": [
    "df.info()"
   ]
  },
  {
   "cell_type": "markdown",
   "metadata": {},
   "source": [
    "Wszystkie dane, którymi będziemy się posługiwać, są w tym samym formacie (float64)"
   ]
  },
  {
   "cell_type": "code",
   "execution_count": 33,
   "metadata": {},
   "outputs": [
    {
     "data": {
      "text/plain": [
       "(91, 6)"
      ]
     },
     "execution_count": 33,
     "metadata": {},
     "output_type": "execute_result"
    }
   ],
   "source": [
    "df.shape"
   ]
  },
  {
   "cell_type": "markdown",
   "metadata": {},
   "source": [
    "Mamy do przeanalizowania łącznie 91 wierszy"
   ]
  },
  {
   "cell_type": "code",
   "execution_count": 32,
   "metadata": {},
   "outputs": [
    {
     "data": {
      "text/plain": [
       "time    0\n",
       "tavg    0\n",
       "prcp    0\n",
       "wspd    0\n",
       "pres    0\n",
       "City    0\n",
       "dtype: int64"
      ]
     },
     "execution_count": 32,
     "metadata": {},
     "output_type": "execute_result"
    }
   ],
   "source": [
    "df.isna().sum()"
   ]
  },
  {
   "cell_type": "markdown",
   "metadata": {},
   "source": [
    "W datasecie nie występują braki, dlatego aby móc użyć metod numerycznych i sprawdzić ich efektywność, należy niektóre wartości usunąć "
   ]
  },
  {
   "cell_type": "code",
   "execution_count": 34,
   "metadata": {},
   "outputs": [
    {
     "data": {
      "text/html": [
       "<div>\n",
       "<style scoped>\n",
       "    .dataframe tbody tr th:only-of-type {\n",
       "        vertical-align: middle;\n",
       "    }\n",
       "\n",
       "    .dataframe tbody tr th {\n",
       "        vertical-align: top;\n",
       "    }\n",
       "\n",
       "    .dataframe thead th {\n",
       "        text-align: right;\n",
       "    }\n",
       "</style>\n",
       "<table border=\"1\" class=\"dataframe\">\n",
       "  <thead>\n",
       "    <tr style=\"text-align: right;\">\n",
       "      <th></th>\n",
       "      <th>time</th>\n",
       "      <th>tavg</th>\n",
       "      <th>prcp</th>\n",
       "      <th>wspd</th>\n",
       "      <th>pres</th>\n",
       "      <th>City</th>\n",
       "    </tr>\n",
       "  </thead>\n",
       "  <tbody>\n",
       "    <tr>\n",
       "      <th>0</th>\n",
       "      <td>2024-01-01</td>\n",
       "      <td>2.7</td>\n",
       "      <td>8.9</td>\n",
       "      <td>12.8</td>\n",
       "      <td>1009.2</td>\n",
       "      <td>Kraków</td>\n",
       "    </tr>\n",
       "    <tr>\n",
       "      <th>1</th>\n",
       "      <td>2024-01-02</td>\n",
       "      <td>4.9</td>\n",
       "      <td>9.9</td>\n",
       "      <td>9.7</td>\n",
       "      <td>1008.0</td>\n",
       "      <td>Kraków</td>\n",
       "    </tr>\n",
       "    <tr>\n",
       "      <th>2</th>\n",
       "      <td>2024-01-03</td>\n",
       "      <td>7.4</td>\n",
       "      <td>5.5</td>\n",
       "      <td>19.2</td>\n",
       "      <td>997.5</td>\n",
       "      <td>Kraków</td>\n",
       "    </tr>\n",
       "    <tr>\n",
       "      <th>3</th>\n",
       "      <td>2024-01-04</td>\n",
       "      <td>6.6</td>\n",
       "      <td>7.1</td>\n",
       "      <td>25.5</td>\n",
       "      <td>998.6</td>\n",
       "      <td>Kraków</td>\n",
       "    </tr>\n",
       "    <tr>\n",
       "      <th>4</th>\n",
       "      <td>2024-01-05</td>\n",
       "      <td>1.3</td>\n",
       "      <td>5.8</td>\n",
       "      <td>14.4</td>\n",
       "      <td>1009.8</td>\n",
       "      <td>Kraków</td>\n",
       "    </tr>\n",
       "  </tbody>\n",
       "</table>\n",
       "</div>"
      ],
      "text/plain": [
       "         time  tavg  prcp  wspd    pres    City\n",
       "0  2024-01-01   2.7   8.9  12.8  1009.2  Kraków\n",
       "1  2024-01-02   4.9   9.9   9.7  1008.0  Kraków\n",
       "2  2024-01-03   7.4   5.5  19.2   997.5  Kraków\n",
       "3  2024-01-04   6.6   7.1  25.5   998.6  Kraków\n",
       "4  2024-01-05   1.3   5.8  14.4  1009.8  Kraków"
      ]
     },
     "execution_count": 34,
     "metadata": {},
     "output_type": "execute_result"
    }
   ],
   "source": [
    "def randomly_remove_values(df, frac, columns_to_nan):\n",
    "    total_elements = df[columns_to_nan].size\n",
    "    num_elements_to_remove = int(total_elements * frac)\n",
    "    indices = [(row, df.columns.get_loc(col)) for row in range(df.shape[0]) for col in columns_to_nan]\n",
    "    indices_to_remove = np.random.choice(range(len(indices)), num_elements_to_remove, replace=False)\n",
    "\n",
    "    for index in indices_to_remove:\n",
    "        row, col = indices[index]\n",
    "        df.iat[row, col] = np.nan\n",
    "    \n",
    "    return df\n",
    "\n",
    "columns_to_nan = ['tavg', 'prcp', 'wspd', 'pres']\n",
    "df_with_nan = randomly_remove_values(df.copy(), 0.2, columns_to_nan)\n",
    "df_with_nan.head()"
   ]
  },
  {
   "cell_type": "code",
   "execution_count": 36,
   "metadata": {},
   "outputs": [
    {
     "data": {
      "text/plain": [
       "time     0\n",
       "tavg    19\n",
       "prcp    12\n",
       "wspd    22\n",
       "pres    19\n",
       "City     0\n",
       "dtype: int64"
      ]
     },
     "execution_count": 36,
     "metadata": {},
     "output_type": "execute_result"
    }
   ],
   "source": [
    "df_with_nan.isna().sum()"
   ]
  },
  {
   "cell_type": "markdown",
   "metadata": {},
   "source": [
    "## Obliczanie brakujących danych"
   ]
  },
  {
   "cell_type": "markdown",
   "metadata": {},
   "source": [
    "Uzupełnijmy braki za pomocą metod numerycznych. W tym przypadku najlepsza będzie aproksymacja, ponieważ nie chcemy, żeby funkcje przechodziły dokładnie przez wszystkie anomalie, ale żeby zwracały uśrednioną wartość"
   ]
  },
  {
   "cell_type": "code",
   "execution_count": 53,
   "metadata": {},
   "outputs": [
    {
     "data": {
      "text/html": [
       "<div>\n",
       "<style scoped>\n",
       "    .dataframe tbody tr th:only-of-type {\n",
       "        vertical-align: middle;\n",
       "    }\n",
       "\n",
       "    .dataframe tbody tr th {\n",
       "        vertical-align: top;\n",
       "    }\n",
       "\n",
       "    .dataframe thead th {\n",
       "        text-align: right;\n",
       "    }\n",
       "</style>\n",
       "<table border=\"1\" class=\"dataframe\">\n",
       "  <thead>\n",
       "    <tr style=\"text-align: right;\">\n",
       "      <th></th>\n",
       "      <th>time</th>\n",
       "      <th>tavg</th>\n",
       "      <th>prcp</th>\n",
       "      <th>wspd</th>\n",
       "      <th>pres</th>\n",
       "      <th>City</th>\n",
       "    </tr>\n",
       "  </thead>\n",
       "  <tbody>\n",
       "    <tr>\n",
       "      <th>0</th>\n",
       "      <td>2024-01-01</td>\n",
       "      <td>2.7</td>\n",
       "      <td>8.9</td>\n",
       "      <td>12.8</td>\n",
       "      <td>1009.2</td>\n",
       "      <td>Kraków</td>\n",
       "    </tr>\n",
       "    <tr>\n",
       "      <th>1</th>\n",
       "      <td>2024-01-02</td>\n",
       "      <td>4.9</td>\n",
       "      <td>9.9</td>\n",
       "      <td>9.7</td>\n",
       "      <td>1008.0</td>\n",
       "      <td>Kraków</td>\n",
       "    </tr>\n",
       "    <tr>\n",
       "      <th>2</th>\n",
       "      <td>2024-01-03</td>\n",
       "      <td>7.4</td>\n",
       "      <td>5.5</td>\n",
       "      <td>19.2</td>\n",
       "      <td>997.5</td>\n",
       "      <td>Kraków</td>\n",
       "    </tr>\n",
       "    <tr>\n",
       "      <th>3</th>\n",
       "      <td>2024-01-04</td>\n",
       "      <td>6.6</td>\n",
       "      <td>7.1</td>\n",
       "      <td>25.5</td>\n",
       "      <td>998.6</td>\n",
       "      <td>Kraków</td>\n",
       "    </tr>\n",
       "    <tr>\n",
       "      <th>4</th>\n",
       "      <td>2024-01-05</td>\n",
       "      <td>1.3</td>\n",
       "      <td>5.8</td>\n",
       "      <td>14.4</td>\n",
       "      <td>1009.8</td>\n",
       "      <td>Kraków</td>\n",
       "    </tr>\n",
       "    <tr>\n",
       "      <th>5</th>\n",
       "      <td>2024-01-06</td>\n",
       "      <td>1.1</td>\n",
       "      <td>7.4</td>\n",
       "      <td>13.4</td>\n",
       "      <td>1009.2</td>\n",
       "      <td>Kraków</td>\n",
       "    </tr>\n",
       "    <tr>\n",
       "      <th>6</th>\n",
       "      <td>2024-01-07</td>\n",
       "      <td>-4.4</td>\n",
       "      <td>7.4</td>\n",
       "      <td>NaN</td>\n",
       "      <td>1015.9</td>\n",
       "      <td>Kraków</td>\n",
       "    </tr>\n",
       "    <tr>\n",
       "      <th>7</th>\n",
       "      <td>2024-01-08</td>\n",
       "      <td>-10.1</td>\n",
       "      <td>0.5</td>\n",
       "      <td>12.2</td>\n",
       "      <td>NaN</td>\n",
       "      <td>Kraków</td>\n",
       "    </tr>\n",
       "    <tr>\n",
       "      <th>8</th>\n",
       "      <td>2024-01-09</td>\n",
       "      <td>-14.5</td>\n",
       "      <td>0.0</td>\n",
       "      <td>12.2</td>\n",
       "      <td>1038.9</td>\n",
       "      <td>Kraków</td>\n",
       "    </tr>\n",
       "    <tr>\n",
       "      <th>9</th>\n",
       "      <td>2024-01-10</td>\n",
       "      <td>-13.3</td>\n",
       "      <td>0.0</td>\n",
       "      <td>4.4</td>\n",
       "      <td>1036.1</td>\n",
       "      <td>Kraków</td>\n",
       "    </tr>\n",
       "  </tbody>\n",
       "</table>\n",
       "</div>"
      ],
      "text/plain": [
       "         time  tavg  prcp  wspd    pres    City\n",
       "0  2024-01-01   2.7   8.9  12.8  1009.2  Kraków\n",
       "1  2024-01-02   4.9   9.9   9.7  1008.0  Kraków\n",
       "2  2024-01-03   7.4   5.5  19.2   997.5  Kraków\n",
       "3  2024-01-04   6.6   7.1  25.5   998.6  Kraków\n",
       "4  2024-01-05   1.3   5.8  14.4  1009.8  Kraków\n",
       "5  2024-01-06   1.1   7.4  13.4  1009.2  Kraków\n",
       "6  2024-01-07  -4.4   7.4   NaN  1015.9  Kraków\n",
       "7  2024-01-08 -10.1   0.5  12.2     NaN  Kraków\n",
       "8  2024-01-09 -14.5   0.0  12.2  1038.9  Kraków\n",
       "9  2024-01-10 -13.3   0.0   4.4  1036.1  Kraków"
      ]
     },
     "execution_count": 53,
     "metadata": {},
     "output_type": "execute_result"
    }
   ],
   "source": [
    "# Funkcja obliczająca ilorazy różnicowe\n",
    "def divided_differences(x, y):\n",
    "    n = len(y)\n",
    "    coef = np.zeros([n, n])\n",
    "    coef[:,0] = y\n",
    "    \n",
    "    for j in range(1, n):\n",
    "        for i in range(n-j):\n",
    "            coef[i][j] = (coef[i+1][j-1] - coef[i][j-1]) / (x[i+j] - x[i])\n",
    "    \n",
    "    return coef[0, :]\n",
    "\n",
    "#interpolacja Newtona\n",
    "def newton_interpolation(x_data, y_data, x):\n",
    "    coef = divided_differences(x_data, y_data)\n",
    "    n = len(x_data) - 1\n",
    "    p = coef[n]\n",
    "    for k in range(1, n+1):\n",
    "        p = coef[n-k] + (x - x_data[n-k])*p\n",
    "    return p\n",
    "\n",
    "#aproksymacja średniokwadratowa\n",
    "def least_squares_approximation(x, y):\n",
    "    n = len(x)\n",
    "    sum_x = sum(x)\n",
    "    sum_y = sum(y)\n",
    "    sum_x2 = sum(xi**2 for xi in x)\n",
    "    sum_xy = sum(xi*yi for xi, yi in zip(x, y))\n",
    "    \n",
    "    a = (n * sum_xy - sum_x * sum_y) / (n * sum_x2 - sum_x**2)\n",
    "    b = (sum_y - a * sum_x) / n\n",
    "    \n",
    "    return [a * xi + b for xi in range(len(y))]\n",
    "\n",
    "columns_to_process = ['tavg', 'prcp', 'wspd', 'pres']\n",
    "\n",
    "df_final = df_with_nan.copy()\n",
    "\n",
    "for column in columns_to_process:\n",
    "    column_values = df_with_nan[column].tolist()\n",
    "    \n",
    "    x = [i for i in range(len(column_values)) if column_values[i] is not None]\n",
    "    y = [column_values[i] for i in range(len(column_values)) if column_values[i] is not None]\n",
    "    \n",
    "    interpolated_values = []\n",
    "    for i in range(len(column_values)):\n",
    "        if column_values[i] is None:\n",
    "            interpolated_values.append(newton_interpolation(x, y, i))\n",
    "        else:\n",
    "            interpolated_values.append(column_values[i])\n",
    "    \n",
    "    approximated_values = least_squares_approximation(x, y)\n",
    "    \n",
    "    for i in range(len(interpolated_values)):\n",
    "        if column_values[i] is None:\n",
    "            interpolated_values[i] = approximated_values[i]\n",
    "    \n",
    "    df_final[column] = interpolated_values\n",
    "\n",
    "df_final.head(5)\n",
    "# df_final.to_csv('/mnt/data/df_final.csv', index=False)\n"
   ]
  },
  {
   "cell_type": "code",
   "execution_count": 55,
   "metadata": {},
   "outputs": [
    {
     "data": {
      "text/plain": [
       "time     0\n",
       "tavg    19\n",
       "prcp    12\n",
       "wspd    22\n",
       "pres    19\n",
       "City     0\n",
       "dtype: int64"
      ]
     },
     "execution_count": 55,
     "metadata": {},
     "output_type": "execute_result"
    }
   ],
   "source": [
    "df_final.isna().sum()"
   ]
  }
 ],
 "metadata": {
  "kernelspec": {
   "display_name": "Python 3",
   "language": "python",
   "name": "python3"
  },
  "language_info": {
   "codemirror_mode": {
    "name": "ipython",
    "version": 3
   },
   "file_extension": ".py",
   "mimetype": "text/x-python",
   "name": "python",
   "nbconvert_exporter": "python",
   "pygments_lexer": "ipython3",
   "version": "3.11.8"
  }
 },
 "nbformat": 4,
 "nbformat_minor": 2
}
