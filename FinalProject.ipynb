{
 "cells": [
  {
   "cell_type": "markdown",
   "metadata": {},
   "source": [
    "# Projekt końcowy z Metod Numerycznych 2023/2024"
   ]
  },
  {
   "cell_type": "markdown",
   "metadata": {},
   "source": [
    "Pytania:\n",
    "- Czy można do raportu użyć markdowna?"
   ]
  },
  {
   "cell_type": "markdown",
   "metadata": {},
   "source": [
    "Użyto danych z biblioteki meteostat. Wybrano 5 lokalizacji:\n",
    "- Kraków\n",
    "- Warszawa\n",
    "- Wrocław\n",
    "- Szczecin\n",
    "- Gdańsk"
   ]
  },
  {
   "cell_type": "code",
   "execution_count": 28,
   "metadata": {},
   "outputs": [],
   "source": [
    "import pandas as pd\n",
    "import numpy as np\n",
    "import matplotlib as mp\n",
    "from meteostat import Point, Daily, units\n",
    "from datetime import datetime"
   ]
  },
  {
   "cell_type": "code",
   "execution_count": 29,
   "metadata": {},
   "outputs": [],
   "source": [
    "cities = {\n",
    "    'Kraków': Point(50.0647, 19.9450),\n",
    "    'Warszawa': Point(52.2297, 21.0122),\n",
    "    'Wrocław': Point(51.1079, 17.0385),\n",
    "    'Szczecin': Point(53.4285, 14.5528),\n",
    "    'Gdańsk': Point(54.3520, 18.6466)\n",
    "}"
   ]
  },
  {
   "cell_type": "code",
   "execution_count": 30,
   "metadata": {},
   "outputs": [],
   "source": [
    "start = datetime(2024, 1, 1)\n",
    "end = datetime(2024, 1, 31)"
   ]
  },
  {
   "cell_type": "code",
   "execution_count": 31,
   "metadata": {},
   "outputs": [
    {
     "name": "stdout",
     "output_type": "stream",
     "text": [
      "Plik CSV dla Kraków został pomyślnie wygenerowany jako kraków_weather_data.csv.\n",
      "Plik CSV dla Warszawa został pomyślnie wygenerowany jako warszawa_weather_data.csv.\n",
      "Plik CSV dla Wrocław został pomyślnie wygenerowany jako wrocław_weather_data.csv.\n",
      "Plik CSV dla Szczecin został pomyślnie wygenerowany jako szczecin_weather_data.csv.\n",
      "Plik CSV dla Gdańsk został pomyślnie wygenerowany jako gdańsk_weather_data.csv.\n"
     ]
    }
   ],
   "source": [
    "dataframes = []\n",
    "for city, point in cities.items():\n",
    "    data = Daily(point, start, end)\n",
    "    data = data.fetch()\n",
    "    data['City'] = city\n",
    "    filename = f'{city.lower()}_weather_data.csv'\n",
    "    data.to_csv(filename, index=True)\n",
    "    print(f\"Plik CSV dla {city} został pomyślnie wygenerowany jako {filename}.\")"
   ]
  },
  {
   "cell_type": "markdown",
   "metadata": {},
   "source": [
    "### Dane zostały wygenerowane, zatem można przystąpić do obróbki danych"
   ]
  },
  {
   "cell_type": "markdown",
   "metadata": {},
   "source": [
    "Sprawdzenie, czy występują braki"
   ]
  },
  {
   "cell_type": "code",
   "execution_count": 32,
   "metadata": {},
   "outputs": [],
   "source": [
    "df = pd.read_csv('kraków_weather_data.csv')"
   ]
  },
  {
   "cell_type": "code",
   "execution_count": 33,
   "metadata": {},
   "outputs": [
    {
     "data": {
      "text/plain": [
       "time     0\n",
       "tavg     0\n",
       "tmin     0\n",
       "tmax     0\n",
       "prcp     0\n",
       "snow    21\n",
       "wdir     0\n",
       "wspd     0\n",
       "wpgt     0\n",
       "pres     0\n",
       "tsun    31\n",
       "City     0\n",
       "dtype: int64"
      ]
     },
     "execution_count": 33,
     "metadata": {},
     "output_type": "execute_result"
    }
   ],
   "source": [
    "df.isna().sum()"
   ]
  },
  {
   "cell_type": "code",
   "execution_count": 34,
   "metadata": {},
   "outputs": [
    {
     "name": "stdout",
     "output_type": "stream",
     "text": [
      "<class 'pandas.core.frame.DataFrame'>\n",
      "RangeIndex: 31 entries, 0 to 30\n",
      "Data columns (total 12 columns):\n",
      " #   Column  Non-Null Count  Dtype  \n",
      "---  ------  --------------  -----  \n",
      " 0   time    31 non-null     object \n",
      " 1   tavg    31 non-null     float64\n",
      " 2   tmin    31 non-null     float64\n",
      " 3   tmax    31 non-null     float64\n",
      " 4   prcp    31 non-null     float64\n",
      " 5   snow    10 non-null     float64\n",
      " 6   wdir    31 non-null     float64\n",
      " 7   wspd    31 non-null     float64\n",
      " 8   wpgt    31 non-null     float64\n",
      " 9   pres    31 non-null     float64\n",
      " 10  tsun    0 non-null      float64\n",
      " 11  City    31 non-null     object \n",
      "dtypes: float64(10), object(2)\n",
      "memory usage: 3.0+ KB\n"
     ]
    }
   ],
   "source": [
    "df.info()"
   ]
  },
  {
   "cell_type": "markdown",
   "metadata": {},
   "source": [
    "Ani jedna dana \"The mean sunshine total in minutes [m]\" nie została podana, dlatego należy tą pustą kolumnę usunąć."
   ]
  },
  {
   "cell_type": "code",
   "execution_count": 35,
   "metadata": {},
   "outputs": [],
   "source": [
    "df.drop(columns=['tsun'], inplace=True)"
   ]
  },
  {
   "cell_type": "code",
   "execution_count": 36,
   "metadata": {},
   "outputs": [
    {
     "data": {
      "text/html": [
       "<div>\n",
       "<style scoped>\n",
       "    .dataframe tbody tr th:only-of-type {\n",
       "        vertical-align: middle;\n",
       "    }\n",
       "\n",
       "    .dataframe tbody tr th {\n",
       "        vertical-align: top;\n",
       "    }\n",
       "\n",
       "    .dataframe thead th {\n",
       "        text-align: right;\n",
       "    }\n",
       "</style>\n",
       "<table border=\"1\" class=\"dataframe\">\n",
       "  <thead>\n",
       "    <tr style=\"text-align: right;\">\n",
       "      <th></th>\n",
       "      <th>time</th>\n",
       "      <th>tavg</th>\n",
       "      <th>tmin</th>\n",
       "      <th>tmax</th>\n",
       "      <th>prcp</th>\n",
       "      <th>snow</th>\n",
       "      <th>wdir</th>\n",
       "      <th>wspd</th>\n",
       "      <th>wpgt</th>\n",
       "      <th>pres</th>\n",
       "      <th>City</th>\n",
       "    </tr>\n",
       "  </thead>\n",
       "  <tbody>\n",
       "    <tr>\n",
       "      <th>0</th>\n",
       "      <td>2024-01-01</td>\n",
       "      <td>2.7</td>\n",
       "      <td>0.5</td>\n",
       "      <td>4.7</td>\n",
       "      <td>8.9</td>\n",
       "      <td>NaN</td>\n",
       "      <td>260.0</td>\n",
       "      <td>12.8</td>\n",
       "      <td>35.2</td>\n",
       "      <td>1009.2</td>\n",
       "      <td>Kraków</td>\n",
       "    </tr>\n",
       "    <tr>\n",
       "      <th>1</th>\n",
       "      <td>2024-01-02</td>\n",
       "      <td>4.9</td>\n",
       "      <td>2.9</td>\n",
       "      <td>7.0</td>\n",
       "      <td>9.9</td>\n",
       "      <td>NaN</td>\n",
       "      <td>193.0</td>\n",
       "      <td>9.7</td>\n",
       "      <td>29.6</td>\n",
       "      <td>1008.0</td>\n",
       "      <td>Kraków</td>\n",
       "    </tr>\n",
       "    <tr>\n",
       "      <th>2</th>\n",
       "      <td>2024-01-03</td>\n",
       "      <td>7.4</td>\n",
       "      <td>4.1</td>\n",
       "      <td>10.2</td>\n",
       "      <td>5.5</td>\n",
       "      <td>NaN</td>\n",
       "      <td>223.0</td>\n",
       "      <td>19.2</td>\n",
       "      <td>44.5</td>\n",
       "      <td>997.5</td>\n",
       "      <td>Kraków</td>\n",
       "    </tr>\n",
       "    <tr>\n",
       "      <th>3</th>\n",
       "      <td>2024-01-04</td>\n",
       "      <td>6.6</td>\n",
       "      <td>3.1</td>\n",
       "      <td>9.2</td>\n",
       "      <td>7.1</td>\n",
       "      <td>NaN</td>\n",
       "      <td>235.0</td>\n",
       "      <td>25.5</td>\n",
       "      <td>53.7</td>\n",
       "      <td>998.6</td>\n",
       "      <td>Kraków</td>\n",
       "    </tr>\n",
       "    <tr>\n",
       "      <th>4</th>\n",
       "      <td>2024-01-05</td>\n",
       "      <td>1.3</td>\n",
       "      <td>0.0</td>\n",
       "      <td>6.5</td>\n",
       "      <td>5.8</td>\n",
       "      <td>NaN</td>\n",
       "      <td>25.0</td>\n",
       "      <td>14.4</td>\n",
       "      <td>46.3</td>\n",
       "      <td>1009.8</td>\n",
       "      <td>Kraków</td>\n",
       "    </tr>\n",
       "  </tbody>\n",
       "</table>\n",
       "</div>"
      ],
      "text/plain": [
       "         time  tavg  tmin  tmax  prcp  snow   wdir  wspd  wpgt    pres    City\n",
       "0  2024-01-01   2.7   0.5   4.7   8.9   NaN  260.0  12.8  35.2  1009.2  Kraków\n",
       "1  2024-01-02   4.9   2.9   7.0   9.9   NaN  193.0   9.7  29.6  1008.0  Kraków\n",
       "2  2024-01-03   7.4   4.1  10.2   5.5   NaN  223.0  19.2  44.5   997.5  Kraków\n",
       "3  2024-01-04   6.6   3.1   9.2   7.1   NaN  235.0  25.5  53.7   998.6  Kraków\n",
       "4  2024-01-05   1.3   0.0   6.5   5.8   NaN   25.0  14.4  46.3  1009.8  Kraków"
      ]
     },
     "execution_count": 36,
     "metadata": {},
     "output_type": "execute_result"
    }
   ],
   "source": [
    "df.head(5)"
   ]
  },
  {
   "cell_type": "markdown",
   "metadata": {},
   "source": [
    "Wartości puste pojawiają się również w kolumnie \"snow\", jednakże w tym przypadku kolumna nie jest całkowicie pusta, dlatego też można uzupełnić braki poprzez aproksymację."
   ]
  },
  {
   "cell_type": "code",
   "execution_count": 37,
   "metadata": {},
   "outputs": [
    {
     "name": "stdout",
     "output_type": "stream",
     "text": [
      "Dane zostały zapisane do pliku 'kraków_weather_approximated.csv'.\n"
     ]
    }
   ],
   "source": [
    "import pandas as pd\n",
    "import numpy as np\n",
    "\n",
    "df = pd.read_csv('kraków_weather_data.csv')\n",
    "\n",
    "def moving_average_approximation(series, window=3):\n",
    "    n = len(series)\n",
    "    approximated_series = series.copy()\n",
    "    \n",
    "    for i in range(n):\n",
    "        if np.isnan(approximated_series[i]):\n",
    "            valid_values = []\n",
    "            \n",
    "            for j in range(1, window + 1):\n",
    "                if i - j >= 0 and not np.isnan(approximated_series[i - j]):\n",
    "                    valid_values.append(approximated_series[i - j])\n",
    "            \n",
    "            for j in range(1, window + 1):\n",
    "                if i + j < n and not np.isnan(approximated_series[i + j]):\n",
    "                    valid_values.append(approximated_series[i + j])\n",
    "            \n",
    "            if len(valid_values) > 0:\n",
    "                approximated_series[i] = np.mean(valid_values)\n",
    "    \n",
    "    return approximated_series\n",
    "\n",
    "df['snow'] = moving_average_approximation(df['snow'])\n",
    "\n",
    "df.to_csv('kraków_weather_approximated.csv', index=False)\n",
    "print(\"Dane zostały zapisane do pliku 'kraków_weather_approximated.csv'.\")\n"
   ]
  },
  {
   "cell_type": "markdown",
   "metadata": {},
   "source": [
    "Inną metodą uzupełnienia wartości pustych jest interpolacja"
   ]
  },
  {
   "cell_type": "code",
   "execution_count": 40,
   "metadata": {},
   "outputs": [
    {
     "ename": "NameError",
     "evalue": "name 'a' is not defined",
     "output_type": "error",
     "traceback": [
      "\u001b[1;31m---------------------------------------------------------------------------\u001b[0m",
      "\u001b[1;31mNameError\u001b[0m                                 Traceback (most recent call last)",
      "Cell \u001b[1;32mIn[40], line 72\u001b[0m\n\u001b[0;32m     68\u001b[0m     \u001b[38;5;28mprint\u001b[39m(ext)\n\u001b[0;32m     70\u001b[0m     \u001b[38;5;28;01mreturn\u001b[39;00m macierz\n\u001b[1;32m---> 72\u001b[0m df[\u001b[38;5;124m'\u001b[39m\u001b[38;5;124msnow\u001b[39m\u001b[38;5;124m'\u001b[39m] \u001b[38;5;241m=\u001b[39m oblicz(\u001b[43ma\u001b[49m, b, iloscElementow)\n\u001b[0;32m     74\u001b[0m df\u001b[38;5;241m.\u001b[39mto_csv(\u001b[38;5;124m'\u001b[39m\u001b[38;5;124mkraków_weather_interpolated.csv\u001b[39m\u001b[38;5;124m'\u001b[39m, index\u001b[38;5;241m=\u001b[39m\u001b[38;5;28;01mFalse\u001b[39;00m)\n\u001b[0;32m     75\u001b[0m \u001b[38;5;28mprint\u001b[39m(\u001b[38;5;124m\"\u001b[39m\u001b[38;5;124mDane po interpolacji zostały zapisane do pliku \u001b[39m\u001b[38;5;124m'\u001b[39m\u001b[38;5;124mkraków_weather_interpolated.csv\u001b[39m\u001b[38;5;124m'\u001b[39m\u001b[38;5;124m.\u001b[39m\u001b[38;5;124m\"\u001b[39m)\n",
      "\u001b[1;31mNameError\u001b[0m: name 'a' is not defined"
     ]
    }
   ],
   "source": [
    "df = pd.read_csv('kraków_weather_data.csv')\n",
    "\n",
    "def jakjakochamtrapezy(func, a, b, n):\n",
    "    h = (b - a) / n\n",
    "    suma = 0.0\n",
    "    for i in range(n):\n",
    "        suma += func(a + i * h + h / 2) * h\n",
    "    return suma\n",
    "\n",
    "def LU_decomposition(A):\n",
    "    n = len(A)\n",
    "\n",
    "    L = np.eye(n)\n",
    "    U = np.zeros((n, n))\n",
    "\n",
    "    for k in range(n):\n",
    "        for j in range(k, n):\n",
    "            sum = 0\n",
    "            for p in range(k):\n",
    "                sum += L[k][p] * U[p][j]\n",
    "            U[k][j] = A[k][j] - sum\n",
    "\n",
    "        for i in range(k, n):\n",
    "            sum = 0\n",
    "            for p in range(k):\n",
    "                sum += L[i][p] * U[p][k]\n",
    "            L[i][k] = (A[i][k] - sum) / U[k][k]\n",
    "\n",
    "    return L, U\n",
    "\n",
    "def solve_LU(L, U, B):\n",
    "    n = len(L)\n",
    "    z = np.zeros(n)\n",
    "    x = np.zeros(n)\n",
    "\n",
    "    for i in range(n):\n",
    "        sum = 0\n",
    "        for j in range(i):\n",
    "            sum += L[i][j] * z[j]\n",
    "        z[i] = B[i] - sum\n",
    "\n",
    "    for i in range(n - 1, -1, -1):\n",
    "        sum = 0\n",
    "        for j in range(i + 1, n):\n",
    "            sum += U[i][j] * x[j]\n",
    "        x[i] = (z[i] - sum) / U[i][i]\n",
    "\n",
    "    return x\n",
    "\n",
    "def oblicz(a, b, iloscElementow):\n",
    "    macierz = np.zeros((iloscElementow, iloscElementow))\n",
    "    ext = np.zeros(iloscElementow)\n",
    "\n",
    "    for i in range(iloscElementow):\n",
    "        for j in range(iloscElementow):\n",
    "            macierz[i][j] = jakjakochamtrapezy(lambda x: pow(x, i + j), a, b, 1000)\n",
    "        ext[i] = jakjakochamtrapezy(lambda x: Funkcja(x) * pow(x, i), a, b, 1000)\n",
    "\n",
    "    print(\"Pierwotna macierz A:\")\n",
    "    print(macierz)\n",
    "\n",
    "    L, U = LU_decomposition(macierz)\n",
    "\n",
    "    print(\"Macierz A po dekompozycji LU:\")\n",
    "    print(macierz)\n",
    "\n",
    "    print(\"Wektor B po dekompozycji LU:\")\n",
    "    print(ext)\n",
    "\n",
    "    return macierz\n",
    "\n",
    "df['snow'] = oblicz(a, b, iloscElementow)\n",
    "\n",
    "df.to_csv('kraków_weather_interpolated.csv', index=False)\n",
    "print(\"Dane po interpolacji zostały zapisane do pliku 'kraków_weather_interpolated.csv'.\")\n",
    "\n",
    "def WyswietlWyniki(a):\n",
    "    print(\"Wyniki wspolczynnikow a:\")\n",
    "    print(a)\n",
    "\n",
    "df['snow'] = oblicz(df['snow'])\n",
    "\n",
    "df.to_csv('kraków_weather_interpolated.csv', index=False)\n",
    "print(\"Dane po interpolacji zostały zapisane do pliku 'kraków_weather_interpolated.csv'.\")\n",
    "\n"
   ]
  }
 ],
 "metadata": {
  "kernelspec": {
   "display_name": "Python 3",
   "language": "python",
   "name": "python3"
  },
  "language_info": {
   "codemirror_mode": {
    "name": "ipython",
    "version": 3
   },
   "file_extension": ".py",
   "mimetype": "text/x-python",
   "name": "python",
   "nbconvert_exporter": "python",
   "pygments_lexer": "ipython3",
   "version": "3.12.3"
  }
 },
 "nbformat": 4,
 "nbformat_minor": 2
}
