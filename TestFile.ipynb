{
 "cells": [
  {
   "cell_type": "markdown",
   "metadata": {},
   "source": [
    "Plik do sprawdzania czata oraz głupich pomysłów"
   ]
  },
  {
   "cell_type": "code",
   "execution_count": 14,
   "metadata": {},
   "outputs": [],
   "source": [
    "import pandas as pd\n",
    "from meteostat import Stations, Daily\n",
    "from datetime import datetime\n",
    "import matplotlib.pyplot as plt"
   ]
  },
  {
   "cell_type": "code",
   "execution_count": 15,
   "metadata": {},
   "outputs": [],
   "source": [
    "start = datetime(2023, 1, 1)\n",
    "end = datetime(2023, 1, 7)"
   ]
  },
  {
   "cell_type": "code",
   "execution_count": 16,
   "metadata": {},
   "outputs": [
    {
     "name": "stdout",
     "output_type": "stream",
     "text": [
      "                       name country region    wmo  icao  latitude  longitude  \\\n",
      "id                                                                             \n",
      "12566                Krakow      PL     ML  12566  EPKK   50.0833    19.8000   \n",
      "EPNT0  Nowy Targ / Nowytarg      PL     MA   <NA>  EPNT   49.4628    20.0503   \n",
      "12560              Katowice      PL     SL  12560  EPKT   50.2333    19.0333   \n",
      "\n",
      "       elevation       timezone hourly_start hourly_end daily_start  \\\n",
      "id                                                                    \n",
      "12566      237.0  Europe/Warsaw   1931-01-03 2024-06-05  1973-01-01   \n",
      "EPNT0      628.0  Europe/Warsaw   2014-05-13 2022-07-13         NaT   \n",
      "12560      284.0  Europe/Warsaw   2015-09-03 2024-06-05  2015-09-04   \n",
      "\n",
      "       daily_end monthly_start monthly_end      distance  \n",
      "id                                                        \n",
      "12566 2024-05-28    1973-01-01  2022-01-01  10552.535843  \n",
      "EPNT0        NaT           NaT         NaT  67354.189637  \n",
      "12560 2022-04-25    2020-01-01  2022-01-01  67611.929044  \n"
     ]
    }
   ],
   "source": [
    "# Find weather stations around Kraków\n",
    "stations = Stations()\n",
    "stations = stations.nearby(50.0647, 19.9450)  # latitude and longitude of Kraków\n",
    "stations = stations.fetch(3)  # Fetch the 3 closest stations\n",
    "\n",
    "# Display the station details\n",
    "print(stations)\n",
    "\n",
    "all_data = pd.DataFrame()"
   ]
  },
  {
   "cell_type": "code",
   "execution_count": 17,
   "metadata": {},
   "outputs": [
    {
     "name": "stdout",
     "output_type": "stream",
     "text": [
      "        time  tavg  tmin  tmax  prcp  snow   wdir  wspd  wpgt    pres  tsun  \\\n",
      "0 2023-01-01   7.8   2.5  15.3   0.0   NaN  208.0   5.3  20.4  1023.1   NaN   \n",
      "1 2023-01-02   4.5  -0.7  12.7   0.0   NaN  148.0   4.8  18.5  1023.4   NaN   \n",
      "2 2023-01-03   6.3   3.2   9.3   0.0   NaN  234.0  13.1  31.5  1027.9   NaN   \n",
      "3 2023-01-04   3.3  -2.3   8.5   0.2   NaN  227.0  10.7  42.6  1025.3   NaN   \n",
      "4 2023-01-05   8.1   5.0  10.0   1.3   NaN  245.0  30.3  57.4  1012.3   NaN   \n",
      "\n",
      "  station  \n",
      "0   12566  \n",
      "1   12566  \n",
      "2   12566  \n",
      "3   12566  \n",
      "4   12566  \n"
     ]
    }
   ],
   "source": [
    "# Fetch daily data for each station\n",
    "for station_id in stations.index:\n",
    "    data = Daily(station_id, start, end)\n",
    "    data = data.fetch()\n",
    "    data['station'] = station_id\n",
    "    all_data = pd.concat([all_data, data])\n",
    "\n",
    "# Reset the index to handle the station column properly\n",
    "all_data.reset_index(inplace=True)\n",
    "\n",
    "# Display the data\n",
    "print(all_data.head())\n",
    "\n",
    "# Save the data to a CSV file\n",
    "all_data.to_csv('krakow_weather_data_all_stations.csv', index=False)"
   ]
  },
  {
   "cell_type": "markdown",
   "metadata": {},
   "source": [
    "Plik utworzony dla 01.01.2023-07.01.2023"
   ]
  },
  {
   "cell_type": "code",
   "execution_count": 18,
   "metadata": {},
   "outputs": [
    {
     "name": "stdout",
     "output_type": "stream",
     "text": [
      "         time  tavg  tmin  tmax  prcp  snow   wdir  wspd  wpgt    pres  tsun  \\\n",
      "0  2023-01-01   7.8   2.5  15.3   0.0   NaN  208.0   5.3  20.4  1023.1   NaN   \n",
      "1  2023-01-02   4.5  -0.7  12.7   0.0   NaN  148.0   4.8  18.5  1023.4   NaN   \n",
      "2  2023-01-03   6.3   3.2   9.3   0.0   NaN  234.0  13.1  31.5  1027.9   NaN   \n",
      "3  2023-01-04   3.3  -2.3   8.5   0.2   NaN  227.0  10.7  42.6  1025.3   NaN   \n",
      "4  2023-01-05   8.1   5.0  10.0   1.3   NaN  245.0  30.3  57.4  1012.3   NaN   \n",
      "\n",
      "  station  \n",
      "0   12566  \n",
      "1   12566  \n",
      "2   12566  \n",
      "3   12566  \n",
      "4   12566  \n",
      "time        0\n",
      "tavg        0\n",
      "tmin        0\n",
      "tmax        0\n",
      "prcp        0\n",
      "snow       21\n",
      "wdir        0\n",
      "wspd        0\n",
      "wpgt        7\n",
      "pres        0\n",
      "tsun       21\n",
      "station     0\n",
      "dtype: int64\n"
     ]
    }
   ],
   "source": [
    "dt = pd.read_csv('krakow_weather_data_all_stations.csv')\n",
    "print(dt.head())\n",
    "print(dt.isna().sum())"
   ]
  },
  {
   "cell_type": "code",
   "execution_count": 19,
   "metadata": {},
   "outputs": [],
   "source": [
    "all_data.fillna(0, inplace=True)\n",
    "all_data.to_csv('data.csv', index=False)"
   ]
  },
  {
   "cell_type": "markdown",
   "metadata": {},
   "source": [
    "W pliku \"data.csv\" wpisałem to tsun i snow 0 zamiast NaN"
   ]
  },
  {
   "cell_type": "code",
   "execution_count": null,
   "metadata": {},
   "outputs": [],
   "source": []
  }
 ],
 "metadata": {
  "kernelspec": {
   "display_name": "Python 3",
   "language": "python",
   "name": "python3"
  },
  "language_info": {
   "codemirror_mode": {
    "name": "ipython",
    "version": 3
   },
   "file_extension": ".py",
   "mimetype": "text/x-python",
   "name": "python",
   "nbconvert_exporter": "python",
   "pygments_lexer": "ipython3",
   "version": "3.12.3"
  }
 },
 "nbformat": 4,
 "nbformat_minor": 2
}
