{
 "cells": [
  {
   "cell_type": "code",
   "execution_count": 8,
   "metadata": {},
   "outputs": [],
   "source": [
    "import pandas as pd\n",
    "import matplotlib.pyplot as plt\n",
    "import cartopy.crs as ccrs\n",
    "import cartopy.feature as cfeature\n",
    "from ipywidgets import interact, widgets, Button, VBox, HBox\n",
    "import geopandas as gpd\n",
    "from IPython.display import display"
   ]
  },
  {
   "cell_type": "code",
   "execution_count": 9,
   "metadata": {},
   "outputs": [],
   "source": [
    "files = ['gdańsk_weather_data_final.csv', 'kraków_weather_data_final.csv', 'warszawa_weather_data_final.csv', 'wrocław_weather_data_final.csv', 'szczecin_weather_data_final.csv']\n",
    "city_coordinates = {\n",
    "    'Gdańsk': (54.3520, 18.6466),\n",
    "    'Kraków': (50.0647, 19.9450),\n",
    "    'Warszawa': (52.2297, 21.0122),\n",
    "    'Wrocław': (51.1079, 17.0385),\n",
    "    'Szczecin': (53.4285, 14.5528)\n",
    "}"
   ]
  },
  {
   "cell_type": "code",
   "execution_count": 10,
   "metadata": {},
   "outputs": [
    {
     "name": "stdout",
     "output_type": "stream",
     "text": [
      "        time      tavg      prcp  wspd    pres    City  number\n",
      "0 2024-01-01  1.900000 -0.162265  10.4  1004.6  Gdańsk       1\n",
      "1 2024-01-02  1.500000  2.000000   9.9  1003.2  Gdańsk       2\n",
      "2 2024-01-03 -4.344857  0.360638  19.5   992.8  Gdańsk       3\n",
      "3 2024-01-04 -3.800000  7.600000  15.3   993.3  Gdańsk       4\n",
      "4 2024-01-05 -5.700000  0.000000  12.9  1007.5  Gdańsk       5\n"
     ]
    }
   ],
   "source": [
    "data_frames = []\n",
    "for file in files:\n",
    "    df = pd.read_csv(file)\n",
    "    df['time'] = pd.to_datetime(df['time'])\n",
    "    data_frames.append(df)\n",
    "\n",
    "df = pd.concat(data_frames, ignore_index=True)\n",
    "\n",
    "# Debug: Wyświetl pierwsze kilka wierszy wczytanych danych\n",
    "print(df.head()) "
   ]
  },
  {
   "cell_type": "code",
   "execution_count": 11,
   "metadata": {},
   "outputs": [
    {
     "name": "stdout",
     "output_type": "stream",
     "text": [
      "[datetime.date(2024, 1, 1) datetime.date(2024, 1, 2)\n",
      " datetime.date(2024, 1, 3) datetime.date(2024, 1, 4)\n",
      " datetime.date(2024, 1, 5) datetime.date(2024, 1, 6)\n",
      " datetime.date(2024, 1, 7) datetime.date(2024, 1, 8)\n",
      " datetime.date(2024, 1, 9) datetime.date(2024, 1, 10)\n",
      " datetime.date(2024, 1, 11) datetime.date(2024, 1, 12)\n",
      " datetime.date(2024, 1, 13) datetime.date(2024, 1, 14)\n",
      " datetime.date(2024, 1, 15) datetime.date(2024, 1, 16)\n",
      " datetime.date(2024, 1, 17) datetime.date(2024, 1, 18)\n",
      " datetime.date(2024, 1, 19) datetime.date(2024, 1, 20)\n",
      " datetime.date(2024, 1, 21) datetime.date(2024, 1, 22)\n",
      " datetime.date(2024, 1, 23) datetime.date(2024, 1, 24)\n",
      " datetime.date(2024, 1, 25) datetime.date(2024, 1, 26)\n",
      " datetime.date(2024, 1, 27) datetime.date(2024, 1, 28)\n",
      " datetime.date(2024, 1, 29) datetime.date(2024, 1, 30)\n",
      " datetime.date(2024, 1, 31) datetime.date(2024, 2, 1)\n",
      " datetime.date(2024, 2, 2) datetime.date(2024, 2, 3)\n",
      " datetime.date(2024, 2, 4) datetime.date(2024, 2, 5)\n",
      " datetime.date(2024, 2, 6) datetime.date(2024, 2, 7)\n",
      " datetime.date(2024, 2, 8) datetime.date(2024, 2, 9)\n",
      " datetime.date(2024, 2, 10) datetime.date(2024, 2, 11)\n",
      " datetime.date(2024, 2, 12) datetime.date(2024, 2, 13)\n",
      " datetime.date(2024, 2, 14) datetime.date(2024, 2, 15)\n",
      " datetime.date(2024, 2, 16) datetime.date(2024, 2, 17)\n",
      " datetime.date(2024, 2, 18) datetime.date(2024, 2, 19)\n",
      " datetime.date(2024, 2, 20) datetime.date(2024, 2, 21)\n",
      " datetime.date(2024, 2, 22) datetime.date(2024, 2, 23)\n",
      " datetime.date(2024, 2, 24) datetime.date(2024, 2, 25)\n",
      " datetime.date(2024, 2, 26) datetime.date(2024, 2, 27)\n",
      " datetime.date(2024, 2, 28) datetime.date(2024, 2, 29)\n",
      " datetime.date(2024, 3, 1) datetime.date(2024, 3, 2)\n",
      " datetime.date(2024, 3, 3) datetime.date(2024, 3, 4)\n",
      " datetime.date(2024, 3, 5) datetime.date(2024, 3, 6)\n",
      " datetime.date(2024, 3, 7) datetime.date(2024, 3, 8)\n",
      " datetime.date(2024, 3, 9) datetime.date(2024, 3, 10)\n",
      " datetime.date(2024, 3, 11) datetime.date(2024, 3, 12)\n",
      " datetime.date(2024, 3, 13) datetime.date(2024, 3, 14)\n",
      " datetime.date(2024, 3, 15) datetime.date(2024, 3, 16)\n",
      " datetime.date(2024, 3, 17) datetime.date(2024, 3, 18)\n",
      " datetime.date(2024, 3, 19) datetime.date(2024, 3, 20)\n",
      " datetime.date(2024, 3, 21) datetime.date(2024, 3, 22)\n",
      " datetime.date(2024, 3, 23) datetime.date(2024, 3, 24)\n",
      " datetime.date(2024, 3, 25) datetime.date(2024, 3, 26)\n",
      " datetime.date(2024, 3, 27) datetime.date(2024, 3, 28)\n",
      " datetime.date(2024, 3, 29) datetime.date(2024, 3, 30)\n",
      " datetime.date(2024, 3, 31)]\n"
     ]
    },
    {
     "name": "stderr",
     "output_type": "stream",
     "text": [
      "C:\\Users\\ssiko\\AppData\\Local\\Temp\\ipykernel_17560\\2176969051.py:2: FutureWarning: The geopandas.dataset module is deprecated and will be removed in GeoPandas 1.0. You can get the original 'naturalearth_lowres' data from https://www.naturalearthdata.com/downloads/110m-cultural-vectors/.\n",
      "  world = gpd.read_file(gpd.datasets.get_path('naturalearth_lowres'))\n"
     ]
    },
    {
     "data": {
      "application/vnd.jupyter.widget-view+json": {
       "model_id": "3a22a7b7eb9240a98fb8d41ced421ccb",
       "version_major": 2,
       "version_minor": 0
      },
      "text/plain": [
       "interactive(children=(SelectionSlider(continuous_update=False, description='Date', options=(datetime.date(2024…"
      ]
     },
     "metadata": {},
     "output_type": "display_data"
    },
    {
     "data": {
      "application/vnd.jupyter.widget-view+json": {
       "model_id": "72c6062ee1e6404a9196549dfe485532",
       "version_major": 2,
       "version_minor": 0
      },
      "text/plain": [
       "VBox(children=(SelectionSlider(continuous_update=False, description='Date', options=(datetime.date(2024, 1, 1)…"
      ]
     },
     "metadata": {},
     "output_type": "display_data"
    },
    {
     "name": "stdout",
     "output_type": "stream",
     "text": [
      "Wykres zapisany jako 'weather_data_map.png'\n"
     ]
    }
   ],
   "source": [
    "# Wczytaj granice Polski za pomocą geopandas\n",
    "world = gpd.read_file(gpd.datasets.get_path('naturalearth_lowres'))\n",
    "poland = world[world.name == 'Poland']\n",
    "\n",
    "# Globalna zmienna do przechowywania aktualnego wykresu\n",
    "current_figure = None\n",
    "\n",
    "# Funkcja do rysowania mapy\n",
    "def plot_map(selected_date):\n",
    "    global current_figure\n",
    "\n",
    "    fig = plt.figure(figsize=(10, 8))\n",
    "    ax = plt.axes(projection=ccrs.PlateCarree())\n",
    "    ax.set_extent([14, 25, 48, 56])  # Ustaw granice mapy dla Polski\n",
    "    ax.add_feature(cfeature.COASTLINE)\n",
    "    ax.add_feature(cfeature.BORDERS, linestyle=':')\n",
    "\n",
    "    # Dodanie granic Polski\n",
    "    poland_boundary = poland.geometry.unary_union\n",
    "    ax.add_geometries([poland_boundary], ccrs.PlateCarree(), facecolor='none', edgecolor='black')\n",
    "\n",
    "    # Filtruj dane według wybranej daty\n",
    "    filtered_data = df[df['time'].dt.date == selected_date]\n",
    "\n",
    "    # Debug: Wyświetl filtrowane dane\n",
    "    print(f\"Selected date: {selected_date}\")\n",
    "    print(filtered_data)\n",
    "\n",
    "    for idx, row in filtered_data.iterrows():\n",
    "        city = row['City']\n",
    "        lat, lon = city_coordinates[city]\n",
    "\n",
    "        info = (f\"{city}\\n\"\n",
    "                f\"Tavg: {row['tavg']}°C\\n\"\n",
    "                f\"Prcp: {row['prcp']} mm\\n\"\n",
    "                f\"Wspd: {row['wspd']} km/h\\n\"\n",
    "                f\"Pres: {row['pres']} hPa\\n\")\n",
    "\n",
    "        plt.plot(lon, lat, marker='o', color='red', markersize=10, transform=ccrs.Geodetic())\n",
    "        plt.text(lon + 0.5, lat - 0.5, info, transform=ccrs.Geodetic(), fontsize=8, bbox=dict(facecolor='white', alpha=0.5))\n",
    "\n",
    "    plt.title(f\"Weather Data for {selected_date.strftime('%Y-%m-%d')}\")\n",
    "    plt.show()\n",
    "\n",
    "    current_figure = fig\n",
    "\n",
    "# Funkcja do zapisywania wykresu\n",
    "def save_current_figure(_):\n",
    "    if current_figure:\n",
    "        current_figure.savefig('weather_data_map.png')\n",
    "        print(\"Wykres zapisany jako 'weather_data_map.png'\")\n",
    "    else:\n",
    "        print(\"Brak wykresu do zapisania\")\n",
    "\n",
    "# Znajdź unikalne daty\n",
    "unique_dates = df['time'].dt.date.unique()\n",
    "\n",
    "# Debug: Wyświetl unikalne daty\n",
    "print(unique_dates)\n",
    "\n",
    "# Utwórz interaktywny suwak\n",
    "date_slider = widgets.SelectionSlider(options=unique_dates, description=\"Date\", continuous_update=False)\n",
    "interact(plot_map, selected_date=date_slider)\n",
    "\n",
    "# Utwórz przycisk do zapisywania wykresu\n",
    "save_button = Button(description=\"Save Map\")\n",
    "save_button.on_click(save_current_figure)\n",
    "\n",
    "# Wyświetl suwak i przycisk\n",
    "display(VBox([date_slider, save_button]))"
   ]
  }
 ],
 "metadata": {
  "kernelspec": {
   "display_name": "Python 3",
   "language": "python",
   "name": "python3"
  },
  "language_info": {
   "codemirror_mode": {
    "name": "ipython",
    "version": 3
   },
   "file_extension": ".py",
   "mimetype": "text/x-python",
   "name": "python",
   "nbconvert_exporter": "python",
   "pygments_lexer": "ipython3",
   "version": "3.12.3"
  }
 },
 "nbformat": 4,
 "nbformat_minor": 2
}
